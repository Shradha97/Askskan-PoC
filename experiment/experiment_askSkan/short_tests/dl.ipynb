{
 "cells": [
  {
   "cell_type": "code",
   "execution_count": null,
   "metadata": {},
   "outputs": [],
   "source": [
    "%pip install databricks-sql-connector\n"
   ]
  },
  {
   "cell_type": "code",
   "execution_count": null,
   "metadata": {},
   "outputs": [],
   "source": [
    "! pip install urllib3==1.26.6"
   ]
  },
  {
   "cell_type": "code",
   "execution_count": null,
   "metadata": {},
   "outputs": [],
   "source": [
    "from databricks import sql\n",
    "import os\n",
    "import json\n",
    "\n",
    "from dotenv import load_dotenv, find_dotenv\n",
    "_ = load_dotenv(find_dotenv()) # read local .env file\n",
    "\n",
    "DBWS_HOST = os.getenv(\"dbws_host_domain\")\n",
    "DBWS_HTTP_PATH = os.getenv(\"dbws_host_path\")\n",
    "DBWS_PAT = os.getenv(\"dbws_pat\")\n",
    "\n",
    "def execute_sql_st(query):\n",
    "    result_rows = []\n",
    "\n",
    "    with sql.connect(server_hostname = DBWS_HOST,\n",
    "                    http_path        = DBWS_HTTP_PATH,\n",
    "                    access_token     = DBWS_PAT) as conn:\n",
    "\n",
    "        with conn.cursor() as cursor:\n",
    "            cursor.execute(query)\n",
    "            result = cursor.fetchall()\n",
    "\n",
    "            for row in result:\n",
    "                result_rows.append(row)\n",
    "\n",
    "    if len(result_rows) == 1:\n",
    "        return result_rows[0]\n",
    "    \n",
    "    return result_rows\n",
    "\n",
    "\n",
    "# sql_query = \"SELECT `date` as filter_date FROM hive_metastore.unum_prod2_bi_gold.filter_date_range LIMIT 1\"\n",
    "# sql_query = \"SELECT agent_type FROM hive_metastore.unum_prod2_gold.events_askskan where agent_type=0 LIMIT 1\"\n",
    "# sql_query = \"SELECT agent_type FROM unum_askskan.events_delta_tb where agent_type=0 LIMIT 1\" \n",
    "# sql_query = \"SELECT * FROM unum_askskan.events_delta_tb  LIMIT 1\" \n",
    "# sql_query = \"SELECT COUNT(*) AS count FROM hive_metastore.unum_askskan.events WHERE event_date >= '2023-04-01' AND event_date <= '2023-04-30'\"\n",
    "sql_query = \"DESCRIBE unum_askskan.events_delta_tb\"\n",
    "res= execute_sql_st(sql_query)\n",
    "print( res  )\n",
    "print(json.dumps(res, indent=2))"
   ]
  },
  {
   "cell_type": "code",
   "execution_count": null,
   "metadata": {},
   "outputs": [],
   "source": [
    "# to do: verify if the schema in the view matches the schema in the pickle file (just the name).\n",
    "# Take 5 questions that can be surely answered.\n",
    "\n",
    "import pandas as pd\n",
    "\n",
    "def get_column_difference(list_columns, csv_path):\n",
    "    # Extract the column names from the list of rows\n",
    "    list_column_names = [row.col_name for row in list_columns]\n",
    "    \n",
    "    # Read the CSV file\n",
    "    df = pd.read_csv(csv_path)\n",
    "    \n",
    "    # Get the column names from the CSV\n",
    "    csv_columns = sorted(df['Column Name'].tolist()) # df.columns.tolist()\n",
    "    print(\"CSV cols:\", csv_columns)\n",
    "    \n",
    "    # Find the difference between the list and CSV column names\n",
    "    # difference = list(set(list_column_names) - set(csv_columns))\n",
    "    difference = list(set(csv_columns) - set(list_column_names))\n",
    "    \n",
    "    return difference, csv_columns\n",
    "\n",
    "# Example usage\n",
    "list_columns = sorted(res)\n",
    "csv_path = '../askskan/data/original/schema/schema1.csv'\n",
    "\n",
    "column_difference, csv_columns = get_column_difference(list_columns, csv_path)\n",
    "print(\"list cols:\", list_columns)\n",
    "print(json.dumps(list_columns, indent=2))\n",
    "\n",
    "print(\"Column difference:\", column_difference)\n",
    "\n",
    "print(json.dumps(column_difference, indent=2))\n",
    "    "
   ]
  },
  {
   "cell_type": "code",
   "execution_count": null,
   "metadata": {},
   "outputs": [],
   "source": [
    "# Create a DataFrame from the lists\n",
    "df_csv = pd.DataFrame({'CSV cols': csv_columns})\n",
    "df_list = pd.DataFrame({'List cols': [row.col_name for row in list_columns]})\n",
    "\n",
    "# Write the DataFrame to an Excel file\n",
    "with pd.ExcelWriter('columns_diff.xlsx') as writer:\n",
    "    df_csv.to_excel(writer, sheet_name='CSV Columns', index=False)\n",
    "    df_list.to_excel(writer, sheet_name='List Columns', index=False)"
   ]
  }
 ],
 "metadata": {
  "kernelspec": {
   "display_name": ".venv",
   "language": "python",
   "name": "python3"
  },
  "language_info": {
   "codemirror_mode": {
    "name": "ipython",
    "version": 3
   },
   "file_extension": ".py",
   "mimetype": "text/x-python",
   "name": "python",
   "nbconvert_exporter": "python",
   "pygments_lexer": "ipython3",
   "version": "3.9.6"
  },
  "orig_nbformat": 4
 },
 "nbformat": 4,
 "nbformat_minor": 2
}
